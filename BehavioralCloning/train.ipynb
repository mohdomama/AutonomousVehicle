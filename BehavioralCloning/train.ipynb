{
  "nbformat": 4,
  "nbformat_minor": 0,
  "metadata": {
    "colab": {
      "name": "BehavioralCloning.ipynb",
      "provenance": [],
      "collapsed_sections": []
    },
    "kernelspec": {
      "name": "python3",
      "display_name": "Python 3"
    },
    "accelerator": "GPU"
  },
  "cells": [
    {
      "cell_type": "code",
      "metadata": {
        "id": "8rQRf4NSicat",
        "colab_type": "code",
        "colab": {}
      },
      "source": [
        "! pip install tensorflow-gpu==1.13.1\n",
        "import csv\n",
        "import cv2\n",
        "from sklearn.model_selection import train_test_split\n",
        "import numpy as np\n",
        "\n",
        "from keras.models import Sequential\n",
        "from keras.layers.core import Dense, Activation, Flatten, Dropout\n",
        "from keras.layers import Conv2D\n",
        "from keras.layers.pooling import MaxPooling2D\n",
        "from keras.layers.advanced_activations import ReLU\n",
        "from keras.regularizers import l2\n",
        "from keras.optimizers import Adam\n",
        "from keras.callbacks import ModelCheckpoint, Callback"
      ],
      "execution_count": 0,
      "outputs": []
    },
    {
      "cell_type": "code",
      "metadata": {
        "id": "bprLjU-zfG3A",
        "colab_type": "code",
        "colab": {}
      },
      "source": [
        "! rm -rf ./*\n",
        "! wget https://www.dropbox.com/s/nicav0b03kvfrz3/BehavioralCloning.tar.gz\n",
        "! tar -xzvf BehavioralCloning.tar.gz"
      ],
      "execution_count": 0,
      "outputs": []
    },
    {
      "cell_type": "code",
      "metadata": {
        "id": "ALLSxyozfXPd",
        "colab_type": "code",
        "colab": {}
      },
      "source": [
        "! ls"
      ],
      "execution_count": 0,
      "outputs": []
    },
    {
      "cell_type": "code",
      "metadata": {
        "id": "U3w9nWxBgcO0",
        "colab_type": "code",
        "colab": {}
      },
      "source": [
        "def read_csv_data(csv_path):\n",
        "    ''' Reads CSV data from simulator\n",
        "        Uses only center images\n",
        "    '''\n",
        "    with open(csv_path, newline='') as f:\n",
        "        csv_data = list(csv.reader(f, skipinitialspace=True, delimiter=',', quoting=csv.QUOTE_NONE))\n",
        "    \n",
        "    image_paths, angles = [], []\n",
        "    for row in csv_data:\n",
        "        angle = float(row[1])\n",
        "        image_paths.append(row[0])\n",
        "        angles.append(angle)\n",
        "\n",
        "    return image_paths, angles"
      ],
      "execution_count": 0,
      "outputs": []
    },
    {
      "cell_type": "code",
      "metadata": {
        "id": "Uv89sT_sfmBH",
        "colab_type": "code",
        "colab": {}
      },
      "source": [
        "def create_data_generator(paths, angles, is_val_data, batch_size):\n",
        "  while True:\n",
        "      X, Y = [], []\n",
        "      if is_val_data:\n",
        "          for i, path in enumerate(paths):\n",
        "              img = cv2.imread(path, 0)\n",
        "              X.append(img)\n",
        "              Y.append(angles[i])\n",
        "\n",
        "              if len(X) == batch_size:\n",
        "                  X = np.array(X).reshape(-1, 160, 320, 1)\n",
        "                  X = X / 255.0\n",
        "                  yield X, Y\n",
        "                  X, Y = ([],[])\n",
        "\n",
        "      else:\n",
        "          for i, path in enumerate(paths):\n",
        "              img = cv2.imread(path, 0)\n",
        "              X.append(img)\n",
        "              Y.append(angles[i])\n",
        "\n",
        "              if len(X) == batch_size:\n",
        "                  X = np.array(X).reshape(-1, 160, 320, 1)\n",
        "                  X = X / 255.0\n",
        "                  yield X, Y\n",
        "                  X, Y = ([],[])\n",
        "              \n",
        "              elif abs(angles[i]) > 0.10:\n",
        "                  img = cv2.flip(img, 1)\n",
        "                  angle = -angles[i]\n",
        "                  X.append(img)\n",
        "                  Y.append(angle)\n",
        "\n",
        "                  if len(X) == batch_size:\n",
        "                      X = np.array(X).reshape(-1, 160, 320, 1)\n",
        "                      X = X / 255.0\n",
        "                      yield X, Y\n",
        "                      X, Y = ([],[])"
      ],
      "execution_count": 0,
      "outputs": []
    },
    {
      "cell_type": "code",
      "metadata": {
        "id": "OdgRA2MsgVxH",
        "colab_type": "code",
        "colab": {}
      },
      "source": [
        "def get_data_generators(batch_size):\n",
        "    csv_path = 'driving_log.csv'\n",
        "    image_paths, angles = read_csv_data(csv_path)\n",
        "\n",
        "    # X, Y = get_image_data(image_paths, angles)\n",
        "\n",
        "    # Y = np.array(Y)\n",
        "    # X = np.array(X).reshape(-1, 160, 320, 1)\n",
        "    # X = X / 255.0\n",
        "    \n",
        "    paths_train, paths_test, angles_train, angles_test = train_test_split(image_paths, angles, test_size=0.20, shuffle=True)\n",
        "\n",
        "    train_gen = create_data_generator(paths_train, angles_train, is_val_data=False, batch_size=batch_size)\n",
        "    val_gen = create_data_generator(paths_test, angles_test, is_val_data=True, batch_size=batch_size)\n",
        "\n",
        "    return train_gen, val_gen, int(len(paths_train) / batch_size), int(len(paths_test) / batch_size)"
      ],
      "execution_count": 0,
      "outputs": []
    },
    {
      "cell_type": "code",
      "metadata": {
        "id": "_OKchMDPhABz",
        "colab_type": "code",
        "colab": {}
      },
      "source": [
        "def create_model():\n",
        "    model = Sequential()\n",
        "\n",
        "    model.add(Conv2D(32, (3, 3), input_shape=(160, 320, 1)))\n",
        "    model.add(Activation('relu'))\n",
        "    model.add(MaxPooling2D(pool_size=(2, 2)))\n",
        "    model.add(Conv2D(64, (3, 3)))\n",
        "    model.add(Activation('relu'))\n",
        "    model.add(MaxPooling2D(pool_size=(2, 2)))\n",
        "    model.add(Conv2D(64, (3, 3)))\n",
        "    model.add(Activation('relu'))\n",
        "    model.add(MaxPooling2D(pool_size=(2, 2)))\n",
        "\n",
        "    \n",
        "    model.add(Conv2D(128, (2, 2)))\n",
        "    model.add(Activation('relu'))\n",
        "    model.add(MaxPooling2D(pool_size=(2, 2)))\n",
        "\n",
        "    model.add(Conv2D(128, (2, 2)))\n",
        "    model.add(Activation('relu'))\n",
        "    model.add(MaxPooling2D(pool_size=(2, 2)))\n",
        "\n",
        "    model.add(Conv2D(256, (2, 2)))\n",
        "    model.add(Activation('relu'))\n",
        "    model.add(MaxPooling2D(pool_size=(2, 2)))\n",
        "\n",
        "    model.add(Flatten())\n",
        "\n",
        "    model.add(Dense(100))\n",
        "    model.add(Activation('relu'))\n",
        "    model.add(Dropout(0.10))\n",
        "    model.add(Dense(50))\n",
        "    model.add(Activation('relu'))\n",
        "    model.add(Dropout(0.10))\n",
        "    model.add(Dense(50))\n",
        "    model.add(Activation('relu'))\n",
        "    model.add(Dropout(0.10))\n",
        "    model.add(Dense(10))\n",
        "    model.add(Activation('relu'))\n",
        "\n",
        "    model.add(Dense(1))\n",
        "\n",
        "    model.compile(optimizer=Adam(lr=0.0001), loss='mse')\n",
        "\n",
        "    return model"
      ],
      "execution_count": 0,
      "outputs": []
    },
    {
      "cell_type": "code",
      "metadata": {
        "id": "j8GTbPeziZXW",
        "colab_type": "code",
        "colab": {}
      },
      "source": [
        "def train_model(model, train_gen, val_gen, steps_train, steps_val):\n",
        "\n",
        "    filepath = \"model-v4-{epoch:02d}.h5\"\n",
        "    checkpoint = ModelCheckpoint(filepath) \n",
        "\n",
        "    history = model.fit_generator(train_gen, validation_data=val_gen, epochs=50, \n",
        "                                  steps_per_epoch=steps_train, callbacks=[checkpoint], validation_steps=steps_val)"
      ],
      "execution_count": 0,
      "outputs": []
    },
    {
      "cell_type": "code",
      "metadata": {
        "id": "4GIb5qvripve",
        "colab_type": "code",
        "colab": {}
      },
      "source": [
        "train_gen, val_gen, steps_train, steps_val = get_data_generators(128)\n",
        "\n",
        "model = create_model()\n",
        "\n"
      ],
      "execution_count": 0,
      "outputs": []
    },
    {
      "cell_type": "code",
      "metadata": {
        "id": "lp4iS_XKiy90",
        "colab_type": "code",
        "colab": {}
      },
      "source": [
        "train_model(model, train_gen, val_gen, steps_train, steps_val)"
      ],
      "execution_count": 0,
      "outputs": []
    },
    {
      "cell_type": "code",
      "metadata": {
        "id": "wqSGnBaUofef",
        "colab_type": "code",
        "colab": {}
      },
      "source": [
        "! ls"
      ],
      "execution_count": 0,
      "outputs": []
    },
    {
      "cell_type": "code",
      "metadata": {
        "id": "9ov1cV8fpd17",
        "colab_type": "code",
        "colab": {}
      },
      "source": [
        "!pip install -U -q PyDrive\n",
        "from pydrive.auth import GoogleAuth\n",
        "from pydrive.drive import GoogleDrive\n",
        "from google.colab import auth\n",
        "from oauth2client.client import GoogleCredentials"
      ],
      "execution_count": 0,
      "outputs": []
    },
    {
      "cell_type": "code",
      "metadata": {
        "id": "Y8cT9oVBrw1c",
        "colab_type": "code",
        "colab": {}
      },
      "source": [
        "auth.authenticate_user()\n",
        "gauth = GoogleAuth()\n",
        "gauth.credentials = GoogleCredentials.get_application_default()\n",
        "drive = GoogleDrive(gauth)"
      ],
      "execution_count": 0,
      "outputs": []
    },
    {
      "cell_type": "code",
      "metadata": {
        "id": "n5D185Ypry_S",
        "colab_type": "code",
        "colab": {}
      },
      "source": [
        "upload = drive.CreateFile({'Clone': 'model-v4-04.h5'})\n",
        "upload.SetContentFile('model-v4-04.h5')\n",
        "upload.Upload()"
      ],
      "execution_count": 0,
      "outputs": []
    },
    {
      "cell_type": "code",
      "metadata": {
        "id": "miZpFWP6sIkh",
        "colab_type": "code",
        "colab": {}
      },
      "source": [
        ""
      ],
      "execution_count": 0,
      "outputs": []
    }
  ]
}